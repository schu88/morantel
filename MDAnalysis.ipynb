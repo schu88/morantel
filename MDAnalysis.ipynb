{
 "cells": [
  {
   "cell_type": "markdown",
   "id": "5354b375",
   "metadata": {},
   "source": [
    "Analysis for [insert your simulation]"
   ]
  },
  {
   "cell_type": "markdown",
   "id": "43ba08bf",
   "metadata": {},
   "source": [
    "[these are the residues I picked out for the 1hlr receptor, but feel free to change this according to the receptor you have]\n",
    "\n",
    "[you will also need to make any changes to these residue numbers all throughout the file]\n",
    "\n",
    "alpha C loop: 192-199\n",
    "\n",
    "beta C loop: 192-200\n",
    "\n",
    "alpha Cys loop: 131-145\n",
    "\n",
    "beta Cys loop: 133-147\n",
    "\n",
    "tip of alpha C loop (vicinal cysteines): 195-196\n",
    "\n",
    "tip of beta C loop: 195-197\n",
    "\n",
    "alpha backside tryptophan: 152\n",
    "\n",
    "beta backside tryptophan: 154"
   ]
  },
  {
   "cell_type": "markdown",
   "id": "5f7db6b0",
   "metadata": {},
   "source": [
    "SETUP ------------------------------------------------------------"
   ]
  },
  {
   "cell_type": "code",
   "execution_count": 1,
   "id": "6ab45cdb",
   "metadata": {},
   "outputs": [],
   "source": [
    "# import necessary librarys so we have the functions that we need for analysis\n",
    "# we assign them useful names for easy access\n",
    "# import [library] as [name] #\n",
    "import MDAnalysis as mda\n",
    "from MDAnalysis.analysis import align, rms\n",
    "import pandas as pd\n",
    "import matplotlib.pyplot as plt\n",
    "%matplotlib inline\n",
    "import numpy as np"
   ]
  },
  {
   "cell_type": "code",
   "execution_count": null,
   "id": "9c5d5695",
   "metadata": {},
   "outputs": [],
   "source": [
    "# load in and create variables for .pdb and .xtc files\n",
    "PDB = \"[your pdb file; step3_input].pdb\" # variable 'PDB' is the loaded PDB file\n",
    "XTC = \"[your trajectory file; trajout].xtc\" # variable 'XTC' is the loaded trajectory file"
   ]
  },
  {
   "cell_type": "code",
   "execution_count": null,
   "id": "a7b129dc",
   "metadata": {},
   "outputs": [],
   "source": [
    "u = mda.Universe(PDB, XTC) # variable 'u' is the compiled structure and trajectory\n",
    "\n",
    "print(u) # prints the universe\n",
    "print(len(u.trajectory)) # shows the size of trajectory (in frames)"
   ]
  },
  {
   "cell_type": "code",
   "execution_count": null,
   "id": "1ba7a28f",
   "metadata": {},
   "outputs": [],
   "source": [
    "# make more variables like 'u' so that we can manipulate them\n",
    "mobile = mda.Universe(PDB, XTC) # variable 'mobile' compiles structure and trajectory\n",
    "ref = mda.Universe(PDB, XTC) # variable 'ref' compiles structure and trajectory"
   ]
  },
  {
   "cell_type": "markdown",
   "id": "7a245b5d",
   "metadata": {},
   "source": [
    "RMSD ------------------------------------------------------------"
   ]
  },
  {
   "cell_type": "code",
   "execution_count": null,
   "id": "6dc9b44d",
   "metadata": {},
   "outputs": [],
   "source": [
    "mobile.trajectory[-1] # set mobile trajectory to last frame\n",
    "ref.trajectory[0] # set reference trajectory to first frame\n",
    "\n",
    "mobile_ca = mobile.select_atoms('name CA') # select alpha carbons\n",
    "ref_ca = ref.select_atoms('name CA') # select alpha carbons\n",
    "\n",
    "# run rmsd with untreated (not aligned) frames for alpha carbons\n",
    "rms.rmsd(mobile_ca.positions, ref_ca.positions, superposition = False)"
   ]
  },
  {
   "cell_type": "markdown",
   "id": "2f151d38",
   "metadata": {},
   "source": [
    "output: RMSD of alpha carbons (untreated) = "
   ]
  },
  {
   "cell_type": "code",
   "execution_count": null,
   "id": "9ee3d93c",
   "metadata": {},
   "outputs": [],
   "source": [
    "# fit the whole trajectory to a reference structure\n",
    "# so we are aligning the mobile trajectory to the reference trajectory\n",
    "aligner = align.AlignTraj(mobile, ref, select='protein and name CA', in_memory = True)\n",
    "aligner.run()"
   ]
  },
  {
   "cell_type": "markdown",
   "id": "621e3570",
   "metadata": {},
   "source": [
    "from here on out, the frames will be \"treated\". that is, the mobile trajectory is aligned with the reference trajectory. "
   ]
  },
  {
   "cell_type": "code",
   "execution_count": null,
   "id": "4c02ce95",
   "metadata": {},
   "outputs": [],
   "source": [
    "mobile.trajectory[-1] # set mobile trajectory to last frame\n",
    "ref.trajectory[0] # set reference trajectory to first frame\n",
    "\n",
    "# run rmsd with treated frames for alpha carbons (should be a smaller value than before)\n",
    "rms.rmsd(mobile_ca.positions, ref_ca.positions, superposition = False)"
   ]
  },
  {
   "cell_type": "markdown",
   "id": "e308fbfa",
   "metadata": {},
   "source": [
    "output: RMSD of alpha carbons (treated) = "
   ]
  },
  {
   "cell_type": "code",
   "execution_count": null,
   "id": "cb499a91",
   "metadata": {},
   "outputs": [],
   "source": [
    "mobile.trajectory[-1] # set mobile trajectory to last frame\n",
    "output: RMSD of backbone = 2.63ref.trajectory[0] # set reference trajectory to first frame\n",
    "\n",
    "# we can look at the relative movement of the backbone of the protein\n",
    "# which, like the alpha carbons, allows us to look at the overall movement \n",
    "# of the protein\n",
    "mobile_back = mobile.select_atoms('backbone') # variable where we select backbone\n",
    "ref_back = ref.select_atoms('backbone') # variable where we select backbone\n",
    "\n",
    "# run rmsd for backbone\n",
    "rms.rmsd(mobile_back.positions, ref_back.positions, superposition = False)"
   ]
  },
  {
   "cell_type": "markdown",
   "id": "ff4c512a",
   "metadata": {},
   "source": [
    "output: RMSD of backbone = "
   ]
  },
  {
   "cell_type": "markdown",
   "id": "08ecfba7",
   "metadata": {},
   "source": [
    "*when choosing residue numbers (resid) for the c loops, i looked at the specific numbers in Chimera using the Sequence Viewer. for segid, i have not been able to find a way to determine which subunit corresponds to which label in Chimera, so i used VMD to determine which segid each subunit is*"
   ]
  },
  {
   "cell_type": "code",
   "execution_count": null,
   "id": "b18af56e",
   "metadata": {},
   "outputs": [],
   "source": [
    "mobile.trajectory[-1] # set mobile trajectory to last frame\n",
    "ref.trajectory[0] # set reference trajectory to first frame\n",
    "\n",
    "mobile_proa_c_loop = mobile.select_atoms('backbone and segid PROA and resid 192-199')\n",
    "ref_proa_c_loop = ref.select_atoms('backbone and segid PROA and resid 192-199')\n",
    "\n",
    "rms.rmsd(mobile_proa_c_loop.positions, ref_proa_c_loop.positions, superposition = False)"
   ]
  },
  {
   "cell_type": "markdown",
   "id": "c80d7389",
   "metadata": {},
   "source": [
    "output: RMSD of C Loop on A subunit (a/b interface) = "
   ]
  },
  {
   "cell_type": "code",
   "execution_count": null,
   "id": "44067fc1",
   "metadata": {},
   "outputs": [],
   "source": [
    "mobile.trajectory[-1] # set mobile trajectory to last frame\n",
    "ref.trajectory[0] # set reference trajectory to first frame\n",
    "\n",
    "mobile_prod_c_loop = mobile.select_atoms('backbone and segid PROD and resid 192-199')\n",
    "ref_prod_c_loop = ref.select_atoms('backbone and segid PROD and resid 192-199')\n",
    "\n",
    "rms.rmsd(mobile_prod_c_loop.positions, ref_prod_c_loop.positions, superposition = False)"
   ]
  },
  {
   "cell_type": "markdown",
   "id": "24cfcb4c",
   "metadata": {},
   "source": [
    "output: RMSD of C Loop on D subunit (a/b interface) = "
   ]
  },
  {
   "cell_type": "code",
   "execution_count": null,
   "id": "b119d144",
   "metadata": {},
   "outputs": [],
   "source": [
    "mobile.trajectory[-1] # set mobile trajectory to last frame\n",
    "ref.trajectory[0] # set reference trajectory to first frame\n",
    "\n",
    "mobile_proe_c_loop = mobile.select_atoms('backbone and segid PROE and resid 192-200')\n",
    "ref_proe_c_loop = ref.select_atoms('backbone and segid PROE and resid 192-200')\n",
    "\n",
    "rms.rmsd(mobile_proe_c_loop.positions, ref_proe_c_loop.positions, superposition = False)"
   ]
  },
  {
   "cell_type": "markdown",
   "id": "c0591981",
   "metadata": {},
   "source": [
    "output: RMSD of C Loop on E subunit (b/a interface) = "
   ]
  },
  {
   "cell_type": "code",
   "execution_count": null,
   "id": "c3b8eb48",
   "metadata": {},
   "outputs": [],
   "source": [
    "mobile.trajectory[-1] # set mobile trajectory to last frame\n",
    "ref.trajectory[0] # set reference trajectory to first frame\n",
    "\n",
    "mobile_prob_c_loop = mobile.select_atoms('backbone and segid PROB and resid 192-200')\n",
    "ref_prob_c_loop = ref.select_atoms('backbone and segid PROB and resid 192-200')\n",
    "\n",
    "rms.rmsd(mobile_prob_c_loop.positions, ref_prob_c_loop.positions, superposition = False)"
   ]
  },
  {
   "cell_type": "markdown",
   "id": "ee252565",
   "metadata": {},
   "source": [
    "output: RMSD of C Loop of B subunit (b/b interface) = "
   ]
  },
  {
   "cell_type": "code",
   "execution_count": null,
   "id": "1b1d1018",
   "metadata": {},
   "outputs": [],
   "source": [
    "mobile.trajectory[-1] # set mobile trajectory to last frame\n",
    "ref.trajectory[0] # set reference trajectory to first frame\n",
    "\n",
    "mobile_proc_c_loop = mobile.select_atoms('backbone and segid PROC and resid 192-200')\n",
    "ref_proc_c_loop = ref.select_atoms('backbone and segid PROC and resid 192-200')\n",
    "\n",
    "rms.rmsd(mobile_proc_c_loop.positions, ref_proc_c_loop.positions, superposition = False)"
   ]
  },
  {
   "cell_type": "markdown",
   "id": "a3c85ff3",
   "metadata": {},
   "source": [
    "output: RMSD of C Loop of C subunit (b/a interface) = "
   ]
  },
  {
   "cell_type": "markdown",
   "id": "c92195a1",
   "metadata": {},
   "source": [
    "*rms.rmsd is a function that returns the RMSD between two coordinate sets, which in our case is the mobile coordinates and the reference coordinates. \n",
    "rms.RMSD (yes, capitalization matters here) performs RMSD analysis on a whole trajectory, which is what we want*"
   ]
  },
  {
   "cell_type": "code",
   "execution_count": null,
   "id": "7bb455b7",
   "metadata": {},
   "outputs": [],
   "source": [
    "# select the c loops of binding site subunits for RMSD analysis\n",
    "C_loop_A = \"backbone and segid PROA and resid 192-199\"\n",
    "C_loop_D = \"backbone and segid PROD and resid 192-199\"\n",
    "C_loop_E = \"backbone and segid PROE and resid 192-200\"\n",
    "\n",
    "R = rms.RMSD(mobile, ref, select='backbone', groupselections=[C_loop_A, C_loop_D, C_loop_E],ref_frame = 0)\n",
    "R.run()"
   ]
  },
  {
   "cell_type": "code",
   "execution_count": null,
   "id": "fc8d8c80",
   "metadata": {},
   "outputs": [],
   "source": [
    "df = pd.DataFrame(R.results.rmsd, columns=['Frame', 'Time (ps)', 'Backbone', 'C_loop_A', 'C_loop_D','C_loop_E']) # create table\n",
    "df['Time (ns)']=(df['Time (ps)']/1000) # add a ns column\n",
    "df # show table"
   ]
  },
  {
   "cell_type": "code",
   "execution_count": null,
   "id": "12dbbc13",
   "metadata": {},
   "outputs": [],
   "source": [
    "# create a plot of the data in the table above\n",
    "ax = df.plot(x='Time (ns)',\n",
    "             y=['C_loop_A', 'C_loop_D', 'C_loop_E', \"Backbone\"],\n",
    "             label=['C loop ' r'$\\alpha$/$\\beta$ A', 'C loop ' r'$\\alpha$/$\\beta$ D', 'C loop ' r'$\\beta$/$\\alpha$ E', \"Backbone\"],\n",
    "             color=['red', 'green', 'blue', 'yellow'])\n",
    "ax.set_ylabel(r'RMSD ($\\AA$)')\n",
    "\n",
    "# save the plot to your computer\n",
    "plt.savefig('RMSD_binding_sites.png')"
   ]
  },
  {
   "cell_type": "code",
   "execution_count": null,
   "id": "0eebd5fd",
   "metadata": {},
   "outputs": [],
   "source": [
    "# select the c loops of all subunits for RMSD analysis\n",
    "C_loop_A = \"backbone and segid PROA and resid 192-199\"\n",
    "C_loop_D = \"backbone and segid PROD and resid 192-199\"\n",
    "C_loop_E = \"backbone and segid PROE and resid 192-200\"\n",
    "C_loop_B = \"backbone and segid PROB and resid 192-200\"\n",
    "C_loop_C = \"backbone and segid PROC and resid 192-200\"\n",
    "\n",
    "R = rms.RMSD(mobile, ref, select='backbone', groupselections=[C_loop_A, C_loop_D, C_loop_E, C_loop_B, C_loop_C],ref_frame = 0)\n",
    "R.run()"
   ]
  },
  {
   "cell_type": "code",
   "execution_count": null,
   "id": "5885277c",
   "metadata": {},
   "outputs": [],
   "source": [
    "df = pd.DataFrame(R.results.rmsd, columns=['Frame', 'Time (ps)', 'Backbone', 'C_loop_A', 'C_loop_D','C_loop_E', 'C_loop_B', 'C_loop_C']) # create data table\n",
    "df['Time (ns)']=(df['Time (ps)']/1000) # add time in ns column\n",
    "df # show data table"
   ]
  },
  {
   "cell_type": "code",
   "execution_count": null,
   "id": "70caa7f4",
   "metadata": {},
   "outputs": [],
   "source": [
    "# create plot\n",
    "ax = df.plot(x='Time (ns)',\n",
    "             y=['C_loop_A', 'C_loop_D', 'C_loop_E', 'C_loop_B', 'C_loop_C', \"Backbone\"],\n",
    "             label =['C loop ' r'$\\alpha$/$\\beta$ A', 'C loop ' r'$\\alpha$/$\\beta$ D', 'C loop ' r'$\\beta$/$\\alpha$ E', 'C loop ' r'$\\beta$/$\\beta$ B', 'C loop ' r'$\\beta$/$\\alpha$ C', \"Backbone\"],\n",
    "             color=['red', 'green', 'blue', 'orange', 'purple', 'yellow'])\n",
    "ax.set_ylabel(r'RMSD ($\\AA$)')\n",
    "\n",
    "# save plot to computer\n",
    "plt.savefig('RMSD_all_sites.png')"
   ]
  },
  {
   "cell_type": "code",
   "execution_count": null,
   "id": "7c94df53",
   "metadata": {},
   "outputs": [],
   "source": [
    "# select cys loop of all subunits rmsd analysis\n",
    "Cys_loop_A = \"backbone and segid PROA and resid 131-145\"\n",
    "Cys_loop_D = \"backbone and segid PROD and resid 131-145\"\n",
    "Cys_loop_E = \"backbone and segid PROE and resid 133-147\"\n",
    "Cys_loop_B = \"backbone and segid PROB and resid 133-147\"\n",
    "Cys_loop_C = \"backbone and segid PROC and resid 133-147\"\n",
    "\n",
    "R = rms.RMSD(mobile, ref, select='backbone', groupselections=[Cys_loop_A, Cys_loop_D, Cys_loop_E, Cys_loop_B, Cys_loop_C],ref_frame = 0)\n",
    "R.run()"
   ]
  },
  {
   "cell_type": "code",
   "execution_count": null,
   "id": "540956a5",
   "metadata": {},
   "outputs": [],
   "source": [
    "# make data table\n",
    "df = pd.DataFrame(R.results.rmsd, columns=['Frame', 'Time (ps)', 'Backbone', 'Cys_loop_A', 'Cys_loop_D','Cys_loop_E', 'Cys_loop_B', 'Cys_loop_C'])\n",
    "df['Time (ns)']=(df['Time (ps)']/1000)\n",
    "df"
   ]
  },
  {
   "cell_type": "code",
   "execution_count": null,
   "id": "da2233f8",
   "metadata": {},
   "outputs": [],
   "source": [
    "# create plot\n",
    "ax = df.plot(x='Time (ns)',\n",
    "             y=['Cys_loop_A', 'Cys_loop_D', 'Cys_loop_E', 'Cys_loop_B', 'Cys_loop_C', \"Backbone\"],\n",
    "             label =['Cys loop ' r'$\\alpha$/$\\beta$ A', 'Cys loop ' r'$\\alpha$/$\\beta$ D', 'Cys loop ' r'$\\beta$/$\\alpha$ E', 'Cys loop ' r'$\\beta$/$\\beta$ B', 'Cys loop ' r'$\\beta$/$\\alpha$ C', \"Backbone\"],\n",
    "             color=['#F4A7A7', '#B0F4A7', '#62DDE9', '#F2C47B', '#D87BF2', 'yellow'])\n",
    "ax.set_ylabel(r'RMSD ($\\AA$)')\n",
    "plt.savefig('RMSD_Cys_loop.png')"
   ]
  },
  {
   "cell_type": "code",
   "execution_count": null,
   "id": "1423f28f",
   "metadata": {},
   "outputs": [],
   "source": [
    "# now we do rmsd for the cys and c loops but on the same subunit\n",
    "# so this is rmsd of the cys and c loops of the proa subunit\n",
    "Cys_loop_A = \"backbone and segid PROA and resid 131-145\"\n",
    "C_loop_A = \"backbone and segid PROA and resid 192-199\"\n",
    "\n",
    "R = rms.RMSD(mobile, ref, select='backbone', groupselections=[Cys_loop_A, C_loop_A],ref_frame = 0)\n",
    "R.run()"
   ]
  },
  {
   "cell_type": "code",
   "execution_count": null,
   "id": "89cd9814",
   "metadata": {},
   "outputs": [],
   "source": [
    "# make table\n",
    "df = pd.DataFrame(R.results.rmsd, columns=['Frame', 'Time (ps)', 'Backbone', 'Cys_loop_A', 'C_loop_A'])\n",
    "df['Time (ns)']=(df['Time (ps)']/1000)\n",
    "df"
   ]
  },
  {
   "cell_type": "code",
   "execution_count": null,
   "id": "e0d8ee3b",
   "metadata": {},
   "outputs": [],
   "source": [
    "# make plot\n",
    "ax = df.plot(x='Time (ns)',\n",
    "             y=['Cys_loop_A', 'C_loop_A', \"Backbone\"],\n",
    "             label =['Cys loop ' r'$\\alpha$/$\\beta$ A',  'C loop ' r'$\\alpha$/$\\beta$ A', \"Backbone\"],\n",
    "             color=['#F4A7A7', 'red', 'yellow'])\n",
    "\n",
    "ax.set_ylabel(r'RMSD ($\\AA$)')\n",
    "plt.savefig('RMSD_Afocus.png')"
   ]
  },
  {
   "cell_type": "code",
   "execution_count": null,
   "id": "22745ebb",
   "metadata": {},
   "outputs": [],
   "source": [
    "# rmsd of cys and c loops of proe subunit\n",
    "Cys_loop_E = \"backbone and segid PROE and resid 133-147\"\n",
    "C_loop_E = \"backbone and segid PROE and resid 192-200\"\n",
    "\n",
    "R = rms.RMSD(mobile, ref, select='backbone', groupselections=[Cys_loop_E, C_loop_E],ref_frame = 0)\n",
    "R.run()"
   ]
  },
  {
   "cell_type": "code",
   "execution_count": null,
   "id": "951dab9a",
   "metadata": {},
   "outputs": [],
   "source": [
    "df = pd.DataFrame(R.results.rmsd, columns=['Frame', 'Time (ps)', 'Backbone', 'Cys_loop_E', 'C_loop_E'])\n",
    "df['Time (ns)']=(df['Time (ps)']/1000)\n",
    "df"
   ]
  },
  {
   "cell_type": "code",
   "execution_count": null,
   "id": "77c40ef4",
   "metadata": {},
   "outputs": [],
   "source": [
    "ax = df.plot(x='Time (ns)',\n",
    "             y=['Cys_loop_E', 'C_loop_E', \"Backbone\"],\n",
    "             label =['Cys loop ' r'$\\beta$/$\\alpha$ E',  'C loop ' r'$\\beta$/$\\alpha$ E', \"Backbone\"],\n",
    "             color=['#B0F4A7', 'green', 'yellow'])\n",
    "ax.set_ylabel(r'RMSD ($\\AA$)')\n",
    "plt.savefig('RMSD_Efocus.png')"
   ]
  },
  {
   "cell_type": "code",
   "execution_count": null,
   "id": "3cb5dc55",
   "metadata": {},
   "outputs": [],
   "source": [
    "# rmsd of cys and c loops of prod subunit\n",
    "Cys_loop_D = \"backbone and segid PROD and resid 131-145\"\n",
    "C_loop_D = \"backbone and segid PROD and resid 192-199\"\n",
    "\n",
    "R = rms.RMSD(mobile, ref, select='backbone', groupselections=[Cys_loop_D, C_loop_D],ref_frame = 0)\n",
    "R.run()"
   ]
  },
  {
   "cell_type": "code",
   "execution_count": null,
   "id": "2cd50d91",
   "metadata": {},
   "outputs": [],
   "source": [
    "df = pd.DataFrame(R.results.rmsd, columns=['Frame', 'Time (ps)', 'Backbone', 'Cys_loop_D', 'C_loop_D'])\n",
    "df['Time (ns)']=(df['Time (ps)']/1000)\n",
    "df"
   ]
  },
  {
   "cell_type": "code",
   "execution_count": null,
   "id": "cfbbcf17",
   "metadata": {},
   "outputs": [],
   "source": [
    "ax = df.plot(x='Time (ns)',\n",
    "             y=['Cys_loop_D', 'C_loop_D', \"Backbone\"],\n",
    "             label =['Cys loop ' r'$\\alpha$/$\\beta$ D',  'C loop ' r'$\\alpha$/$\\beta$ D', \"Backbone\"],\n",
    "             color=['#62DDE9', 'blue', 'yellow'])\n",
    "ax.set_ylabel(r'RMSD ($\\AA$)')\n",
    "plt.savefig('RMSD_Dfocus.png')"
   ]
  },
  {
   "cell_type": "code",
   "execution_count": null,
   "id": "f6bbf93a",
   "metadata": {},
   "outputs": [],
   "source": [
    "# rmsd of cys and c loops of prob subunit\n",
    "Cys_loop_B = \"backbone and segid PROB and resid 133-147\"\n",
    "C_loop_B = \"backbone and segid PROB and resid 192-200\"\n",
    "\n",
    "R = rms.RMSD(mobile, ref, select='backbone', groupselections=[Cys_loop_B, C_loop_B],ref_frame = 0)\n",
    "R.run()"
   ]
  },
  {
   "cell_type": "code",
   "execution_count": null,
   "id": "0bbb24e1",
   "metadata": {},
   "outputs": [],
   "source": [
    "df = pd.DataFrame(R.results.rmsd, columns=['Frame', 'Time (ps)', 'Backbone', 'Cys_loop_B', 'C_loop_B'])\n",
    "df['Time (ns)']=(df['Time (ps)']/1000)\n",
    "df"
   ]
  },
  {
   "cell_type": "code",
   "execution_count": null,
   "id": "54b63303",
   "metadata": {},
   "outputs": [],
   "source": [
    "ax = df.plot(x='Time (ns)',\n",
    "             y=['Cys_loop_B', 'C_loop_B', \"Backbone\"],\n",
    "             label =['Cys loop ' r'$\\beta$/$\\beta$ B',  'C loop ' r'$\\beta$/$\\beta$ B', \"Backbone\"],\n",
    "             color=['#F2C47B', 'orange', 'yellow'])\n",
    "\n",
    "ax.set_ylabel(r'RMSD ($\\AA$)')\n",
    "plt.savefig('RMSD_Bfocus.png')"
   ]
  },
  {
   "cell_type": "code",
   "execution_count": null,
   "id": "c0cf7204",
   "metadata": {},
   "outputs": [],
   "source": [
    "# rmsd of c and cys loops of proc subunit\n",
    "Cys_loop_C = \"backbone and segid PROC and resid 133-147\"\n",
    "C_loop_C = \"backbone and segid PROC and resid 192-200\"\n",
    "\n",
    "R = rms.RMSD(mobile, ref, select='backbone', groupselections=[Cys_loop_C, C_loop_C],ref_frame = 0)\n",
    "R.run()"
   ]
  },
  {
   "cell_type": "code",
   "execution_count": null,
   "id": "3075a4dd",
   "metadata": {},
   "outputs": [],
   "source": [
    "df = pd.DataFrame(R.results.rmsd, columns=['Frame', 'Time (ps)', 'Backbone', 'Cys_loop_C', 'C_loop_C'])\n",
    "df['Time (ns)']=(df['Time (ps)']/1000)\n",
    "df"
   ]
  },
  {
   "cell_type": "code",
   "execution_count": null,
   "id": "dc64fa59",
   "metadata": {},
   "outputs": [],
   "source": [
    "ax = df.plot(x='Time (ns)',\n",
    "             y=['Cys_loop_C', 'C_loop_C', \"Backbone\"],\n",
    "             label =['Cys loop ' r'$\\beta$/$\\alpha$ C',  'C loop ' r'$\\beta$/$\\alpha$ C', \"Backbone\"],\n",
    "             color=['#D87BF2', 'purple', 'yellow'])\n",
    "ax.set_ylabel(r'RMSD ($\\AA$')\n",
    "plt.savefig('RMSD_Cfocus.png')"
   ]
  },
  {
   "cell_type": "markdown",
   "id": "91cb411a",
   "metadata": {},
   "source": [
    "RMSD Done"
   ]
  },
  {
   "cell_type": "markdown",
   "id": "7cecf5d7",
   "metadata": {},
   "source": [
    "RMSF ----------------------------------------------------------"
   ]
  },
  {
   "cell_type": "code",
   "execution_count": null,
   "id": "cfcfc77f",
   "metadata": {},
   "outputs": [],
   "source": [
    "# select atoms on proa subunit to do rmsf\n",
    "c_alphas_A = mobile.select_atoms('protein and name CA and segid PROA')\n",
    "RfA = rms.RMSF(c_alphas_A).run()"
   ]
  },
  {
   "cell_type": "code",
   "execution_count": null,
   "id": "67572f9e",
   "metadata": {},
   "outputs": [],
   "source": [
    "# make plot\n",
    "plt.plot(c_alphas_A.resids, RfA.results.rmsf, color='red')\n",
    "plt.xlabel('Residue number')\n",
    "plt.ylabel('RMSF ($\\AA$)')\n",
    "\n",
    "# indicate where the c loop is\n",
    "plt.axvspan(192, 199, zorder=0, alpha=0.2, color='orange', label='C loop')\n",
    "\n",
    "plt.legend()\n",
    "plt.savefig('RMSF_Afocus.png')"
   ]
  },
  {
   "cell_type": "code",
   "execution_count": null,
   "id": "6eb0183a",
   "metadata": {},
   "outputs": [],
   "source": [
    "# prod\n",
    "c_alphas_D = mobile.select_atoms('protein and name CA and segid PROD')\n",
    "RfD = rms.RMSF(c_alphas_D).run()"
   ]
  },
  {
   "cell_type": "code",
   "execution_count": null,
   "id": "85fed549",
   "metadata": {},
   "outputs": [],
   "source": [
    "plt.plot(c_alphas_D.resids, RfD.results.rmsf,color='green')\n",
    "plt.xlabel('Residue number')\n",
    "plt.ylabel('RMSF ($\\AA$)')\n",
    "\n",
    "# indicate where the c loop is\n",
    "plt.axvspan(192, 199, zorder=0, alpha=0.2, color='orange', label='C loop')\n",
    "\n",
    "plt.legend()\n",
    "plt.savefig('RMSF_Dfocus.png')"
   ]
  },
  {
   "cell_type": "code",
   "execution_count": null,
   "id": "6214fe64",
   "metadata": {},
   "outputs": [],
   "source": [
    "# proe\n",
    "c_alphas_E = mobile.select_atoms('protein and name CA and segid PROE')\n",
    "RfE = rms.RMSF(c_alphas_E).run()"
   ]
  },
  {
   "cell_type": "code",
   "execution_count": null,
   "id": "681c590e",
   "metadata": {},
   "outputs": [],
   "source": [
    "plt.plot(c_alphas_E.resids, RfE.results.rmsf,color='blue')\n",
    "plt.xlabel('Residue number')\n",
    "plt.ylabel('RMSF ($\\AA$)')\n",
    "\n",
    "# indicate where the c loop is\n",
    "plt.axvspan(192, 200, zorder=0, alpha=0.2, color='orange', label='C loop')\n",
    "\n",
    "plt.legend()\n",
    "plt.savefig('RMSF_Efocus.png')"
   ]
  },
  {
   "cell_type": "code",
   "execution_count": null,
   "id": "953c7c62",
   "metadata": {},
   "outputs": [],
   "source": [
    "# prob\n",
    "c_alphas_B = mobile.select_atoms('protein and name CA and segid PROB')\n",
    "RfB = rms.RMSF(c_alphas_B).run()"
   ]
  },
  {
   "cell_type": "code",
   "execution_count": null,
   "id": "abab6dd2",
   "metadata": {},
   "outputs": [],
   "source": [
    "plt.plot(c_alphas_B.resids, RfB.results.rmsf,color='orange')\n",
    "plt.xlabel('Residue number')\n",
    "plt.ylabel('RMSF ($\\AA$)')\n",
    "\n",
    "# indicate where the c loop is\n",
    "plt.axvspan(192, 200, zorder=0, alpha=0.2, color='orange', label='C loop')\n",
    "\n",
    "plt.legend()\n",
    "plt.savefig('RMSF_Bfocus.png')"
   ]
  },
  {
   "cell_type": "code",
   "execution_count": null,
   "id": "2de3c203",
   "metadata": {},
   "outputs": [],
   "source": [
    "# proc\n",
    "c_alphas_C = mobile.select_atoms('protein and name CA and segid PROC')\n",
    "RfC = rms.RMSF(c_alphas_C).run()"
   ]
  },
  {
   "cell_type": "code",
   "execution_count": null,
   "id": "2dc7f115",
   "metadata": {},
   "outputs": [],
   "source": [
    "plt.plot(c_alphas_C.resids, RfC.results.rmsf,color='purple')\n",
    "plt.xlabel('Residue number')\n",
    "plt.ylabel('RMSF ($\\AA$)')\n",
    "\n",
    "# indicate where the c loop is\n",
    "plt.axvspan(192, 200, zorder=0, alpha=0.2, color='orange', label='C loop')\n",
    "\n",
    "plt.legend()\n",
    "plt.savefig('RMSF_Cfocus.png')"
   ]
  },
  {
   "cell_type": "code",
   "execution_count": null,
   "id": "da02c03d",
   "metadata": {
    "scrolled": true
   },
   "outputs": [],
   "source": [
    "# overlap binding site plots\n",
    "plt.plot(c_alphas_A.resids, RfA.results.rmsf,color='red', label='C loop ' r'$\\alpha$/$\\beta$ A')\n",
    "plt.plot(c_alphas_D.resids, RfD.results.rmsf,color='green', label='C loop ' r'$\\alpha$/$\\beta$ D')\n",
    "plt.plot(c_alphas_E.resids, RfE.results.rmsf,color='blue', label='C loop ' r'$\\beta$/$\\alpha$ E')\n",
    "plt.xlabel('Residue number')\n",
    "plt.ylabel('RMSF ($\\AA$)')\n",
    "plt.axvspan(192, 200, zorder=0, alpha=0.2, color='green', label='C loop area')\n",
    "plt.axvspan(131, 147, zorder=0, alpha=0.2, color='orange', label='Cys loop area')\n",
    "plt.legend(loc='center right', bbox_to_anchor=(0.59, 0.8))\n",
    "plt.savefig('RMSF_binding_sites.png')"
   ]
  },
  {
   "cell_type": "code",
   "execution_count": null,
   "id": "cb043e2d",
   "metadata": {},
   "outputs": [],
   "source": [
    "# overlap all site plots\n",
    "plt.plot(c_alphas_A.resids, RfA.results.rmsf,color='red', label='C loop ' r'$\\alpha$/$\\beta$ A')\n",
    "plt.plot(c_alphas_D.resids, RfD.results.rmsf,color='green', label='C loop ' r'$\\alpha$/$\\beta$ D')\n",
    "plt.plot(c_alphas_E.resids, RfE.results.rmsf,color='blue', label='C loop ' r'$\\beta$/$\\alpha$ E')\n",
    "plt.plot(c_alphas_B.resids, RfB.results.rmsf,color='orange', label='C loop ' r'$\\beta$/$\\beta$ B')\n",
    "plt.plot(c_alphas_C.resids, RfC.results.rmsf,color='purple', label='C loop ' r'$\\beta$/$\\alpha$ C')\n",
    "plt.xlabel('Residue number')\n",
    "plt.ylabel('RMSF ($\\AA$)')\n",
    "plt.axvspan(192, 200, zorder=0, alpha=0.2, color='green', label='C loop area')\n",
    "plt.axvspan(131, 147, zorder=0, alpha=0.2, color='orange', label='Cys loop area')\n",
    "plt.legend(loc='upper center', bbox_to_anchor=(0.4,1))\n",
    "plt.savefig('RMSF_all_sites.png')"
   ]
  },
  {
   "cell_type": "code",
   "execution_count": null,
   "id": "1f3963ac",
   "metadata": {},
   "outputs": [],
   "source": [
    "# focus on cys loop area of all subunits\n",
    "plt.plot(c_alphas_A.resids, RfA.results.rmsf,color='red', label='C loop ' r'$\\alpha$/$\\beta$ A')\n",
    "plt.plot(c_alphas_D.resids, RfD.results.rmsf,color='green', label='C loop ' r'$\\alpha$/$\\beta$ D')\n",
    "plt.plot(c_alphas_E.resids, RfE.results.rmsf,color='blue', label='C loop ' r'$\\beta$/$\\alpha$ E')\n",
    "plt.plot(c_alphas_B.resids, RfB.results.rmsf,color='orange', label='C loop ' r'$\\beta$/$\\beta$ B')\n",
    "plt.plot(c_alphas_C.resids, RfC.results.rmsf,color='purple', label='C loop ' r'$\\beta$/$\\alpha$ C')\n",
    "plt.xlabel('Residue number')\n",
    "plt.ylabel('RMSF ($\\AA$)')\n",
    "plt.legend(loc='upper center', bbox_to_anchor=(0.2,1))\n",
    "plt.axvspan(133, 147, zorder=0, alpha=0.2, color='green', label='' r'$\\beta$ Cys loop')\n",
    "plt.axvspan(131, 145, zorder=0, alpha=0.2, color='orange', label='' r'$\\alpha$ Cys loop')\n",
    "\n",
    "plt.xlim(right=147.5)\n",
    "plt.xlim(left=130.5)\n",
    "\n",
    "plt.savefig('RMSF_all_Cysloopfocus.png')"
   ]
  },
  {
   "cell_type": "code",
   "execution_count": null,
   "id": "2d158c0a",
   "metadata": {},
   "outputs": [],
   "source": [
    "# focus on c loop area of all subunits\n",
    "plt.plot(c_alphas_A.resids, RfA.results.rmsf,color='red', label='C loop ' r'$\\alpha$/$\\beta$ A')\n",
    "plt.plot(c_alphas_D.resids, RfD.results.rmsf,color='green', label='C loop ' r'$\\alpha$/$\\beta$ D')\n",
    "plt.plot(c_alphas_E.resids, RfE.results.rmsf,color='blue', label='C loop ' r'$\\beta$/$\\alpha$ E')\n",
    "plt.plot(c_alphas_B.resids, RfB.results.rmsf,color='orange', label='C loop ' r'$\\beta$/$\\beta$ B')\n",
    "plt.plot(c_alphas_C.resids, RfC.results.rmsf,color='purple', label='C loop ' r'$\\beta$/$\\alpha$ C')\n",
    "plt.xlabel('Residue number')\n",
    "plt.ylabel('RMSF ($\\AA$)')\n",
    "plt.legend(loc='upper center', bbox_to_anchor=(0.2,1))\n",
    "plt.axvspan(192, 200, zorder=0, alpha=0.2, color='green', label='' r'$\\beta$ C loop')\n",
    "plt.axvspan(192, 199, zorder=0, alpha=0.2, color='orange', label='' r'$\\alpha$ C loop')\n",
    "\n",
    "plt.xlim(right=200.5)\n",
    "plt.xlim(left=190.5)\n",
    "\n",
    "plt.savefig('RMSF_all_Cloopfocus.png')"
   ]
  },
  {
   "cell_type": "markdown",
   "id": "61132471",
   "metadata": {},
   "source": [
    "RMSF done"
   ]
  },
  {
   "cell_type": "markdown",
   "id": "532168cf",
   "metadata": {},
   "source": [
    "DISTANCE -----------------------------------------------"
   ]
  },
  {
   "cell_type": "code",
   "execution_count": null,
   "id": "6f5b5f24",
   "metadata": {},
   "outputs": [],
   "source": [
    "mobile.trajectory[-1] # set mobile trajectory to last frame\n",
    "ref.trajectory[0] # set reference trajectory to first frame\n",
    "\n",
    "# we want to look at the distance between the tip of the beta c loop and the\n",
    "# backside tryptophan\n",
    "principal_residue = u.select_atoms('name CA and segid PROE and resid 195 to 197')\n",
    "complementary_residue = u.select_atoms('name CA and segid PROE and resid 154')\n",
    "\n",
    "entry=[] # temporary variable to add an entry to our list of distances\n",
    "i = 0 # counter variable (keeps track of the timestep)\n",
    "dists=[] # our final list of distances (we will add to this)\n",
    "\n",
    "# for every time step, calculate the distance\n",
    "for ts in u.trajectory:\n",
    "    # get the center of mass for each residue (group)\n",
    "    cm_principal = principal_residue.center_of_mass()\n",
    "    cm_complementary = complementary_residue.center_of_mass()\n",
    "    \n",
    "    # calculate the difference between the positions to get the distance\n",
    "    difference = np.linalg.norm(cm_principal - cm_complementary)\n",
    "    \n",
    "    # create an entry with the timestep and distance\n",
    "    entry = [i, difference]\n",
    "    \n",
    "    # add entry to our list\n",
    "    dists.append(entry)\n",
    "    # increment our counter variable for the next time step\n",
    "    i += 1"
   ]
  },
  {
   "cell_type": "code",
   "execution_count": null,
   "id": "83e013d3",
   "metadata": {},
   "outputs": [],
   "source": [
    "# create a data table\n",
    "df = pd.DataFrame(dists, columns=['Frame','Distance'])\n",
    "df['Time (ns)']=(df['Frame']/10)\n",
    "df"
   ]
  },
  {
   "cell_type": "code",
   "execution_count": null,
   "id": "38c89d99",
   "metadata": {},
   "outputs": [],
   "source": [
    "# create a plot\n",
    "ax = df.plot(x='Time (ns)',\n",
    "             y=['Distance'],\n",
    "             color=['#6AD18A'])\n",
    "ax.set_ylabel('Distance')\n",
    "plt.savefig('Distance_allostericCloopatE.png')"
   ]
  },
  {
   "cell_type": "code",
   "execution_count": null,
   "id": "8724fdba",
   "metadata": {},
   "outputs": [],
   "source": [
    "mobile.trajectory[-1] # set mobile trajectory to last frame\n",
    "ref.trajectory[0] # set reference trajectory to first frame\n",
    "\n",
    "# we want to look at the distance between the vicinal cysteines and the\n",
    "# backside tryptophan\n",
    "principal_residue = u.select_atoms('name CA and segid PROD and resid 195 to 196')\n",
    "complementary_residue = u.select_atoms('name CA and segid PROD and resid 152')\n",
    "\n",
    "entry=[] # temporary variable to add an entry to our list of distances\n",
    "i = 0 # counter variable (keeps track of the timestep)\n",
    "dists=[] # our final list of distances (we will add to this)\n",
    "\n",
    "# for every time step, calculate the distance\n",
    "for ts in u.trajectory:\n",
    "    # get the center of mass for each residue (group)\n",
    "    cm_principal = principal_residue.center_of_mass()\n",
    "    cm_complementary = complementary_residue.center_of_mass()\n",
    "    \n",
    "    # calculate the difference between the positions to get the distance\n",
    "    difference = np.linalg.norm(cm_principal - cm_complementary)\n",
    "    \n",
    "    # create an entry with the timestep and distance\n",
    "    entry = [i, difference]\n",
    "    \n",
    "    # add entry to our list\n",
    "    dists.append(entry)\n",
    "    # increment our counter variable for the next time step\n",
    "    i += 1"
   ]
  },
  {
   "cell_type": "code",
   "execution_count": null,
   "id": "64b1dd9b",
   "metadata": {},
   "outputs": [],
   "source": [
    "# create a data table\n",
    "df = pd.DataFrame(dists, columns=['Frame','Distance'])\n",
    "df['Time (ns)']=(df['Frame']/10)\n",
    "df"
   ]
  },
  {
   "cell_type": "code",
   "execution_count": null,
   "id": "29caac42",
   "metadata": {},
   "outputs": [],
   "source": [
    "# create a plot\n",
    "ax = df.plot(x='Time (ns)',\n",
    "             y=['Distance'],\n",
    "             color=['#DBADCC'])\n",
    "ax.set_ylabel('Distance')\n",
    "plt.savefig('Distance_orthostericCloopatD.png')"
   ]
  },
  {
   "cell_type": "code",
   "execution_count": null,
   "id": "ed38851e",
   "metadata": {},
   "outputs": [],
   "source": [
    "mobile.trajectory[-1] # set mobile trajectory to last frame\n",
    "ref.trajectory[0] # set reference trajectory to first frame\n",
    "\n",
    "# we want to look at the distance between the vicinal cysteines and the\n",
    "# backside tryptophan\n",
    "principal_residue = u.select_atoms('name CA and segid PROA and resid 195 to 196')\n",
    "complementary_residue = u.select_atoms('name CA and segid PROA and resid 152')\n",
    "\n",
    "entry=[] # temporary variable to add an entry to our list of distances\n",
    "i = 0 # counter variable (keeps track of the timestep)\n",
    "dists=[] # our final list of distances (we will add to this)\n",
    "\n",
    "# for every time step, calculate the distance\n",
    "for ts in u.trajectory:\n",
    "    # get the center of mass for each residue (group)\n",
    "    cm_principal = principal_residue.center_of_mass()\n",
    "    cm_complementary = complementary_residue.center_of_mass()\n",
    "    \n",
    "    # calculate the difference between the positions to get the distance\n",
    "    difference = np.linalg.norm(cm_principal - cm_complementary)\n",
    "    \n",
    "    # create an entry with the timestep and distance\n",
    "    entry = [i, difference]\n",
    "    \n",
    "    # add entry to our list\n",
    "    dists.append(entry)\n",
    "    # increment our counter variable for the next time step\n",
    "    i += 1"
   ]
  },
  {
   "cell_type": "code",
   "execution_count": null,
   "id": "6282b4a6",
   "metadata": {},
   "outputs": [],
   "source": [
    "# create a data table\n",
    "df = pd.DataFrame(dists, columns=['Frame','Distance'])\n",
    "df['Time (ns)']=(df['Frame']/10)\n",
    "df"
   ]
  },
  {
   "cell_type": "code",
   "execution_count": null,
   "id": "b6133839",
   "metadata": {},
   "outputs": [],
   "source": [
    "# create a plot\n",
    "ax = df.plot(x='Time (ns)',\n",
    "             y=['Distance'],\n",
    "             color=['#ADDBD4'])\n",
    "ax.set_ylabel('Distance')\n",
    "plt.savefig('Distance_orthostericCloopatA.png')"
   ]
  }
 ],
 "metadata": {
  "kernelspec": {
   "display_name": "Python 3 (ipykernel)",
   "language": "python",
   "name": "python3"
  },
  "language_info": {
   "codemirror_mode": {
    "name": "ipython",
    "version": 3
   },
   "file_extension": ".py",
   "mimetype": "text/x-python",
   "name": "python",
   "nbconvert_exporter": "python",
   "pygments_lexer": "ipython3",
   "version": "3.10.10"
  }
 },
 "nbformat": 4,
 "nbformat_minor": 5
}
